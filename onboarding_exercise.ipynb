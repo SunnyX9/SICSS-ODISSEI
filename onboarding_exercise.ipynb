{
 "cells": [
  {
   "cell_type": "markdown",
   "id": "c529c178",
   "metadata": {},
   "source": [
    "/SanniKuikka\n",
    "/2023_06_12\n",
    "/SICSS-ODISSEI\n",
    "/onboarding exercise"
   ]
  },
  {
   "cell_type": "code",
   "execution_count": 1,
   "id": "b9562880",
   "metadata": {
    "scrolled": true
   },
   "outputs": [],
   "source": [
    "%matplotlib inline\n",
    "import pandas as pd\n",
    "import matplotlib.pyplot as plt\n",
    "import seaborn as sns \n"
   ]
  },
  {
   "cell_type": "code",
   "execution_count": 2,
   "id": "1b2813b5",
   "metadata": {},
   "outputs": [],
   "source": [
    "df = pd.read_csv('data_subsample.csv')"
   ]
  },
  {
   "cell_type": "code",
   "execution_count": 3,
   "id": "0936ba97",
   "metadata": {},
   "outputs": [
    {
     "data": {
      "text/html": [
       "<div>\n",
       "<style scoped>\n",
       "    .dataframe tbody tr th:only-of-type {\n",
       "        vertical-align: middle;\n",
       "    }\n",
       "\n",
       "    .dataframe tbody tr th {\n",
       "        vertical-align: top;\n",
       "    }\n",
       "\n",
       "    .dataframe thead th {\n",
       "        text-align: right;\n",
       "    }\n",
       "</style>\n",
       "<table border=\"1\" class=\"dataframe\">\n",
       "  <thead>\n",
       "    <tr style=\"text-align: right;\">\n",
       "      <th></th>\n",
       "      <th>nomem_encr</th>\n",
       "      <th>cf19l_m</th>\n",
       "      <th>cf19l390</th>\n",
       "      <th>cf19l391</th>\n",
       "      <th>cf19l392</th>\n",
       "      <th>cf19l393</th>\n",
       "      <th>cf19l394</th>\n",
       "      <th>cf19l395</th>\n",
       "      <th>cf19l396</th>\n",
       "      <th>cf19l397</th>\n",
       "    </tr>\n",
       "  </thead>\n",
       "  <tbody>\n",
       "    <tr>\n",
       "      <th>0</th>\n",
       "      <td>53334</td>\n",
       "      <td>201909</td>\n",
       "      <td>1.0</td>\n",
       "      <td>4.0</td>\n",
       "      <td>4.0</td>\n",
       "      <td>02-09-2019</td>\n",
       "      <td>18:45:14</td>\n",
       "      <td>02-09-2019</td>\n",
       "      <td>18:49:29</td>\n",
       "      <td>255.0</td>\n",
       "    </tr>\n",
       "    <tr>\n",
       "      <th>1</th>\n",
       "      <td>53334</td>\n",
       "      <td>201909</td>\n",
       "      <td>3.0</td>\n",
       "      <td>4.0</td>\n",
       "      <td>1.0</td>\n",
       "      <td>02-09-2019</td>\n",
       "      <td>22:07:24</td>\n",
       "      <td>02-09-2019</td>\n",
       "      <td>22:17:23</td>\n",
       "      <td>599.0</td>\n",
       "    </tr>\n",
       "    <tr>\n",
       "      <th>2</th>\n",
       "      <td>53337</td>\n",
       "      <td>201909</td>\n",
       "      <td>3.0</td>\n",
       "      <td>3.0</td>\n",
       "      <td>3.0</td>\n",
       "      <td>16-09-2019</td>\n",
       "      <td>13:04:13</td>\n",
       "      <td>16-09-2019</td>\n",
       "      <td>13:06:53</td>\n",
       "      <td>160.0</td>\n",
       "    </tr>\n",
       "    <tr>\n",
       "      <th>3</th>\n",
       "      <td>53337</td>\n",
       "      <td>201909</td>\n",
       "      <td>4.0</td>\n",
       "      <td>3.0</td>\n",
       "      <td>3.0</td>\n",
       "      <td>17-09-2019</td>\n",
       "      <td>11:34:20</td>\n",
       "      <td>17-09-2019</td>\n",
       "      <td>11:45:07</td>\n",
       "      <td>647.0</td>\n",
       "    </tr>\n",
       "    <tr>\n",
       "      <th>4</th>\n",
       "      <td>53339</td>\n",
       "      <td>201909</td>\n",
       "      <td>1.0</td>\n",
       "      <td>3.0</td>\n",
       "      <td>2.0</td>\n",
       "      <td>21-09-2019</td>\n",
       "      <td>13:47:55</td>\n",
       "      <td>21-09-2019</td>\n",
       "      <td>13:51:55</td>\n",
       "      <td>240.0</td>\n",
       "    </tr>\n",
       "  </tbody>\n",
       "</table>\n",
       "</div>"
      ],
      "text/plain": [
       "   nomem_encr  cf19l_m  cf19l390  cf19l391  cf19l392    cf19l393  cf19l394  \\\n",
       "0       53334   201909       1.0       4.0       4.0  02-09-2019  18:45:14   \n",
       "1       53334   201909       3.0       4.0       1.0  02-09-2019  22:07:24   \n",
       "2       53337   201909       3.0       3.0       3.0  16-09-2019  13:04:13   \n",
       "3       53337   201909       4.0       3.0       3.0  17-09-2019  11:34:20   \n",
       "4       53339   201909       1.0       3.0       2.0  21-09-2019  13:47:55   \n",
       "\n",
       "     cf19l395  cf19l396  cf19l397  \n",
       "0  02-09-2019  18:49:29     255.0  \n",
       "1  02-09-2019  22:17:23     599.0  \n",
       "2  16-09-2019  13:06:53     160.0  \n",
       "3  17-09-2019  11:45:07     647.0  \n",
       "4  21-09-2019  13:51:55     240.0  "
      ]
     },
     "execution_count": 3,
     "metadata": {},
     "output_type": "execute_result"
    }
   ],
   "source": [
    "df.head()"
   ]
  },
  {
   "cell_type": "code",
   "execution_count": 4,
   "id": "89829a50",
   "metadata": {},
   "outputs": [
    {
     "data": {
      "text/html": [
       "<div>\n",
       "<style scoped>\n",
       "    .dataframe tbody tr th:only-of-type {\n",
       "        vertical-align: middle;\n",
       "    }\n",
       "\n",
       "    .dataframe tbody tr th {\n",
       "        vertical-align: top;\n",
       "    }\n",
       "\n",
       "    .dataframe thead th {\n",
       "        text-align: right;\n",
       "    }\n",
       "</style>\n",
       "<table border=\"1\" class=\"dataframe\">\n",
       "  <thead>\n",
       "    <tr style=\"text-align: right;\">\n",
       "      <th></th>\n",
       "      <th>nomem_encr</th>\n",
       "      <th>cf19l_m</th>\n",
       "      <th>cf19l390</th>\n",
       "      <th>cf19l391</th>\n",
       "      <th>cf19l392</th>\n",
       "      <th>cf19l393</th>\n",
       "      <th>cf19l394</th>\n",
       "      <th>cf19l395</th>\n",
       "      <th>cf19l396</th>\n",
       "      <th>cf19l397</th>\n",
       "    </tr>\n",
       "  </thead>\n",
       "  <tbody>\n",
       "    <tr>\n",
       "      <th>995</th>\n",
       "      <td>54573</td>\n",
       "      <td>201909</td>\n",
       "      <td>2.0</td>\n",
       "      <td>4.0</td>\n",
       "      <td>4.0</td>\n",
       "      <td>10-09-2019</td>\n",
       "      <td>19:13:54</td>\n",
       "      <td>10-09-2019</td>\n",
       "      <td>19:24:47</td>\n",
       "      <td>653.0</td>\n",
       "    </tr>\n",
       "    <tr>\n",
       "      <th>996</th>\n",
       "      <td>54576</td>\n",
       "      <td>201910</td>\n",
       "      <td>3.0</td>\n",
       "      <td>3.0</td>\n",
       "      <td>3.0</td>\n",
       "      <td>13-10-2019</td>\n",
       "      <td>14:41:56</td>\n",
       "      <td>13-10-2019</td>\n",
       "      <td>14:50:31</td>\n",
       "      <td>515.0</td>\n",
       "    </tr>\n",
       "    <tr>\n",
       "      <th>997</th>\n",
       "      <td>54576</td>\n",
       "      <td>201909</td>\n",
       "      <td>2.0</td>\n",
       "      <td>4.0</td>\n",
       "      <td>3.0</td>\n",
       "      <td>05-09-2019</td>\n",
       "      <td>13:08:23</td>\n",
       "      <td>11-09-2019</td>\n",
       "      <td>16:41:11</td>\n",
       "      <td>531168.0</td>\n",
       "    </tr>\n",
       "    <tr>\n",
       "      <th>998</th>\n",
       "      <td>54577</td>\n",
       "      <td>201910</td>\n",
       "      <td>3.0</td>\n",
       "      <td>3.0</td>\n",
       "      <td>2.0</td>\n",
       "      <td>17-10-2019</td>\n",
       "      <td>19:03:31</td>\n",
       "      <td>17-10-2019</td>\n",
       "      <td>19:11:01</td>\n",
       "      <td>450.0</td>\n",
       "    </tr>\n",
       "    <tr>\n",
       "      <th>999</th>\n",
       "      <td>54577</td>\n",
       "      <td>201909</td>\n",
       "      <td>4.0</td>\n",
       "      <td>4.0</td>\n",
       "      <td>4.0</td>\n",
       "      <td>16-09-2019</td>\n",
       "      <td>11:44:03</td>\n",
       "      <td>16-09-2019</td>\n",
       "      <td>11:45:51</td>\n",
       "      <td>108.0</td>\n",
       "    </tr>\n",
       "  </tbody>\n",
       "</table>\n",
       "</div>"
      ],
      "text/plain": [
       "     nomem_encr  cf19l_m  cf19l390  cf19l391  cf19l392    cf19l393  cf19l394  \\\n",
       "995       54573   201909       2.0       4.0       4.0  10-09-2019  19:13:54   \n",
       "996       54576   201910       3.0       3.0       3.0  13-10-2019  14:41:56   \n",
       "997       54576   201909       2.0       4.0       3.0  05-09-2019  13:08:23   \n",
       "998       54577   201910       3.0       3.0       2.0  17-10-2019  19:03:31   \n",
       "999       54577   201909       4.0       4.0       4.0  16-09-2019  11:44:03   \n",
       "\n",
       "       cf19l395  cf19l396  cf19l397  \n",
       "995  10-09-2019  19:24:47     653.0  \n",
       "996  13-10-2019  14:50:31     515.0  \n",
       "997  11-09-2019  16:41:11  531168.0  \n",
       "998  17-10-2019  19:11:01     450.0  \n",
       "999  16-09-2019  11:45:51     108.0  "
      ]
     },
     "execution_count": 4,
     "metadata": {},
     "output_type": "execute_result"
    }
   ],
   "source": [
    "df.tail()"
   ]
  },
  {
   "cell_type": "code",
   "execution_count": 5,
   "id": "5c090b80",
   "metadata": {},
   "outputs": [
    {
     "data": {
      "text/plain": [
       "1000"
      ]
     },
     "execution_count": 5,
     "metadata": {},
     "output_type": "execute_result"
    }
   ],
   "source": [
    "len(df)"
   ]
  },
  {
   "cell_type": "code",
   "execution_count": 7,
   "id": "81bd0b51",
   "metadata": {},
   "outputs": [
    {
     "data": {
      "text/plain": [
       "nomem_encr      int64\n",
       "cf19l_m         int64\n",
       "cf19l390      float64\n",
       "cf19l391      float64\n",
       "cf19l392      float64\n",
       "cf19l393       object\n",
       "cf19l394       object\n",
       "cf19l395       object\n",
       "cf19l396       object\n",
       "cf19l397      float64\n",
       "dtype: object"
      ]
     },
     "execution_count": 7,
     "metadata": {},
     "output_type": "execute_result"
    }
   ],
   "source": [
    "df.dtypes"
   ]
  },
  {
   "cell_type": "code",
   "execution_count": 12,
   "id": "6130df8b",
   "metadata": {},
   "outputs": [
    {
     "data": {
      "text/plain": [
       "0      02-09-2019\n",
       "1      02-09-2019\n",
       "2      16-09-2019\n",
       "3      17-09-2019\n",
       "4      21-09-2019\n",
       "          ...    \n",
       "995    10-09-2019\n",
       "996    13-10-2019\n",
       "997    05-09-2019\n",
       "998    17-10-2019\n",
       "999    16-09-2019\n",
       "Name: cf19l393, Length: 1000, dtype: object"
      ]
     },
     "execution_count": 12,
     "metadata": {},
     "output_type": "execute_result"
    }
   ],
   "source": [
    "df.cf19l393"
   ]
  },
  {
   "cell_type": "code",
   "execution_count": 16,
   "id": "8340e1c3",
   "metadata": {
    "scrolled": true
   },
   "outputs": [
    {
     "data": {
      "text/plain": [
       "0      True\n",
       "1      True\n",
       "2      True\n",
       "3      True\n",
       "4      True\n",
       "       ... \n",
       "995    True\n",
       "996    True\n",
       "997    True\n",
       "998    True\n",
       "999    True\n",
       "Name: cf19l393, Length: 1000, dtype: bool"
      ]
     },
     "execution_count": 16,
     "metadata": {},
     "output_type": "execute_result"
    }
   ],
   "source": [
    "pd.isna(df.cf19l393)"
   ]
  },
  {
   "cell_type": "code",
   "execution_count": 18,
   "id": "c7a3b44a",
   "metadata": {},
   "outputs": [
    {
     "data": {
      "text/plain": [
       "1000"
      ]
     },
     "execution_count": 18,
     "metadata": {},
     "output_type": "execute_result"
    }
   ],
   "source": [
    "sum(pd.isna(df.cf19l393) == False) #no missing"
   ]
  },
  {
   "cell_type": "code",
   "execution_count": 45,
   "id": "9e95a6b7",
   "metadata": {},
   "outputs": [
    {
     "data": {
      "text/plain": [
       "Text(0.5, 1.0, 'Histogram var cf19l393')"
      ]
     },
     "execution_count": 45,
     "metadata": {},
     "output_type": "execute_result"
    },
    {
     "data": {
      "image/png": "[encoded data removed]",
      "text/plain": [
       "<Figure size 640x480 with 1 Axes>"
      ]
     },
     "metadata": {},
     "output_type": "display_data"
    }
   ],
   "source": [
    "plt.hist(x=df.cf19l393, bins='auto', color='#009999',\n",
    "                            alpha=0.9, rwidth=0.8)\n",
    "plt.xlabel('Value')\n",
    "plt.xticks(rotation='vertical')\n",
    "plt.ylabel('Frequency')\n",
    "plt.title('Histogram var cf19l393')"
   ]
  }
 ],
 "metadata": {
  "kernelspec": {
   "display_name": "Python 3 (ipykernel)",
   "language": "python",
   "name": "python3"
  },
  "language_info": {
   "codemirror_mode": {
    "name": "ipython",
    "version": 3
   },
   "file_extension": ".py",
   "mimetype": "text/x-python",
   "name": "python",
   "nbconvert_exporter": "python",
   "pygments_lexer": "ipython3",
   "version": "3.10.9"
  }
 },
 "nbformat": 4,
 "nbformat_minor": 5
}
